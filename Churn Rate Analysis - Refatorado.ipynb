{
 "cells": [
  {
   "cell_type": "markdown",
   "id": "b527d169",
   "metadata": {},
   "source": [
    "# Churn Rate Analysis\n",
    "Esse notebook contempla a análise exploratória sobre a retenção de profissionais de medicina e enfermagem nas regiões de saúde com base em dados do CNES-PF."
   ]
  },
  {
   "cell_type": "markdown",
   "id": "4cf77fb9",
   "metadata": {},
   "source": [
    "## Carregar bibliotecas"
   ]
  },
  {
   "cell_type": "code",
   "execution_count": null,
   "id": "50f11c58",
   "metadata": {},
   "outputs": [],
   "source": [
    "import numpy as np\n",
    "# Reload automático no Jupyter Notebook\n",
    "%reload_ext autoreload\n",
    "%autoreload 2\n",
    "\n",
    "import traceback\n",
    "import warnings\n",
    "from dados import *\n",
    "from tratamentos import *\n",
    "from modelagem import *\n",
    "from visualizacoes import *\n",
    "from avaliacao import *"
   ]
  },
  {
   "cell_type": "markdown",
   "id": "0be08aa9",
   "metadata": {},
   "source": [
    "## Configurar bibliotecas"
   ]
  },
  {
   "cell_type": "code",
   "execution_count": null,
   "id": "04e20f10",
   "metadata": {},
   "outputs": [],
   "source": [
    "# Remover limite de exibição de linhas e colunas do pandas\n",
    "pd.set_option('max_rows', 9999)\n",
    "pd.set_option('max_columns', 9999)\n",
    "\n",
    "# Evitar notações científicas no pandas\n",
    "pd.set_option('display.float_format', lambda x: '%.2f' % x)\n",
    "\n",
    "# Evitar warnings sobre perfomance no pandas\n",
    "warnings.simplefilter(action='ignore', category=pd.errors.PerformanceWarning)"
   ]
  },
  {
   "cell_type": "markdown",
   "source": [
    "## Obter dados"
   ],
   "metadata": {
    "collapsed": false
   }
  },
  {
   "cell_type": "code",
   "execution_count": null,
   "id": "1002677f",
   "metadata": {},
   "outputs": [],
   "source": [
    "df = obter_dados('profissionais.sql')\n",
    "df.head()"
   ]
  },
  {
   "cell_type": "code",
   "execution_count": null,
   "id": "39c2c943",
   "metadata": {},
   "outputs": [],
   "source": [
    "geo = obter_dados('municipios.sql')\n",
    "geo.head()"
   ]
  },
  {
   "cell_type": "code",
   "execution_count": null,
   "outputs": [],
   "source": [
    "# Realizar o join dos dados do CNES com tabela de municipios\n",
    "df = df.merge(geo, left_on=['CODUFMUN'], right_on=['cod_municipio'])\n",
    "df.head()"
   ],
   "metadata": {
    "collapsed": false
   }
  },
  {
   "cell_type": "markdown",
   "id": "112e8167",
   "metadata": {},
   "source": [
    "## Processar os dados e criar os gráficos e arquivos CSV de retenção por região de saúde"
   ]
  },
  {
   "cell_type": "code",
   "execution_count": null,
   "id": "c29ad644",
   "metadata": {
    "scrolled": true
   },
   "outputs": [],
   "source": [
    "# Realizar processamento para cada categoria profissional\n",
    "for categoria in ['Médico']:\n",
    "#for categoria in df['categoria'].unique():\n",
    "    df_categoria = df.loc[df['categoria'] == categoria].copy()\n",
    "\n",
    "    # Criar listas para salvar dados a serem exportados\n",
    "    estatisticas_curvas = []\n",
    "    triangulos = []\n",
    "    mapes = []\n",
    "    retencao_ano = []\n",
    "    retencao_geral = []\n",
    "\n",
    "    # Realizar o processamento separado para cada região de saúde\n",
    "    i=0\n",
    "    #for regiao_saude in ['11007']:\n",
    "    for regiao_saude in df['cod_regsaud'].unique():\n",
    "        try:\n",
    "            print(f'Processando {regiao_saude} - {i+1}/{len(df[\"cod_regsaud\"].unique())}')\n",
    "            df_categoria_regiao = df_categoria.loc[df_categoria['cod_regsaud'] == regiao_saude].copy()\n",
    "\n",
    "            # Agregar os dados por cohorts\n",
    "            cohort_pivot, cohort_sizes = gerar_triangulo_agregado(df_categoria_regiao.copy())\n",
    "\n",
    "            for fill_na in list(range(0, 181, 12)):\n",
    "                if fill_na not in cohort_pivot.columns:\n",
    "                    cohort_pivot[fill_na] = np.nan\n",
    "\n",
    "            # Obter o modelo chainladder\n",
    "            cl_model = treinar_chainladder(cohort_pivot.copy())\n",
    "\n",
    "            # Calcular profissionais restantes em cada período do cohort\n",
    "            restantes = calcular_restantes(cl_model, cohort_pivot.copy())\n",
    "\n",
    "            # Realizar a divisão de cada célula da tabela pivotada pelo tamanho do grupo para deixar em percentual\n",
    "            percentual_restantes = calcular_percentual_restantes(restantes, cohort_sizes)\n",
    "\n",
    "            # Calcular retenção anual (últimos 5 anos) por região de saúde\n",
    "            retencao_anual = calcular_retencao_ano_regiao(percentual_restantes.copy(), regiao_saude)\n",
    "            retencao_ano.append(retencao_anual)\n",
    "\n",
    "            # Calcular retenção geral (média de todo o triangulo)\n",
    "            retencao_geral.append(pd.DataFrame({'regiao_saude': [regiao_saude], 'retencao_geral': [cohort_pivot.divide(cohort_sizes, axis = 0).unstack().mean()]}))\n",
    "\n",
    "            # Salvar dados do triangulo para exportar em csv\n",
    "            cohort_pivot['cod_regsaud'] = regiao_saude\n",
    "            triangulos.append(cohort_pivot.copy())\n",
    "            cohort_pivot.drop(['cod_regsaud'], axis=1, inplace=True)\n",
    "\n",
    "            # Criar features para ML sobre caracteristicas estatisticas da curva\n",
    "            obs = gerar_ml_features(cohort_pivot, regiao_saude)\n",
    "            estatisticas_curvas.append(obs)\n",
    "\n",
    "            # Calcular mape\n",
    "            mape = calcular_mape(cl_model).stack().mean()\n",
    "            mapes.append(pd.DataFrame({'cod_regsaud': [regiao_saude], 'mape': [mape]}))\n",
    "\n",
    "            # Gerar gráficos\n",
    "            nome_regiao = df_categoria_regiao[\"regiao_saude\"].values[0]\n",
    "            uf_regiao = df_categoria_regiao[\"uf_sigla\"].values[0]\n",
    "            gerar_graficos(restantes.copy(), percentual_restantes.copy(), cl_model, f'Região de Saúde {nome_regiao} - {uf_regiao}', f'{categoria}{regiao_saude}')\n",
    "\n",
    "            i+=1\n",
    "        except Exception as e:\n",
    "            print(f'Erro na região de saúde {regiao_saude}: {e}')\n",
    "            print(traceback.format_exc())\n",
    "            continue\n",
    "\n",
    "\n",
    "    # Exportar dados em CSV\n",
    "    pd.concat(estatisticas_curvas).to_csv(f'csvs/{categoria}_estatisticas_curvas.csv', sep=';')\n",
    "    pd.concat(triangulos).to_csv(f'csvs/{categoria}_triangulos.csv', sep=';')\n",
    "    pd.concat(mapes).to_csv(f'csvs/{categoria}_mapes.csv', sep=';')\n",
    "    pd.concat(retencao_ano).to_csv(f'csvs/{categoria}_retencao_ano.csv', sep=';')\n",
    "    pd.concat(retencao_geral).to_csv(f'csvs/{categoria}_retencao_geral.csv', sep=';')"
   ]
  },
  {
   "cell_type": "code",
   "execution_count": null,
   "outputs": [],
   "source": [],
   "metadata": {
    "collapsed": false
   }
  }
 ],
 "metadata": {
  "kernelspec": {
   "display_name": "Python 3 (ipykernel)",
   "language": "python",
   "name": "python3"
  },
  "language_info": {
   "codemirror_mode": {
    "name": "ipython",
    "version": 3
   },
   "file_extension": ".py",
   "mimetype": "text/x-python",
   "name": "python",
   "nbconvert_exporter": "python",
   "pygments_lexer": "ipython3",
   "version": "3.7.9"
  }
 },
 "nbformat": 4,
 "nbformat_minor": 5
}
